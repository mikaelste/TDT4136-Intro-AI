{
 "cells": [
  {
   "cell_type": "code",
   "execution_count": 1,
   "metadata": {},
   "outputs": [],
   "source": [
    "from Assignment import print_sudoku_solution, create_sudoku_csp"
   ]
  },
  {
   "cell_type": "code",
   "execution_count": null,
   "metadata": {},
   "outputs": [],
   "source": []
  },
  {
   "cell_type": "code",
   "execution_count": 2,
   "metadata": {},
   "outputs": [
    {
     "name": "stdout",
     "output_type": "stream",
     "text": [
      "\n",
      "Backtrack calls: 1\n",
      "Failed backtracking call: 0\n",
      "      \n",
      "7 8 4 | 9 3 2 | 1 5 6 \n",
      "6 1 9 | 4 8 5 | 3 2 7 \n",
      "2 3 5 | 1 7 6 | 4 8 9 \n",
      "------+-------+------\n",
      "5 7 8 | 2 6 1 | 9 3 4 \n",
      "3 4 1 | 8 9 7 | 5 6 2 \n",
      "9 2 6 | 5 4 3 | 8 7 1 \n",
      "------+-------+------\n",
      "4 5 3 | 7 2 9 | 6 1 8 \n",
      "8 6 2 | 3 1 4 | 7 9 5 \n",
      "1 9 7 | 6 5 8 | 2 4 3 \n"
     ]
    }
   ],
   "source": [
    "csp = create_sudoku_csp(filename=\"easy.txt\")\n",
    "\n",
    "csp_search = csp.backtracking_search()\n",
    "\n",
    "print(f\"\"\"\n",
    "Backtrack calls: {csp.backtrack_calls}\n",
    "Failed backtracking call: {csp.backtrack_failures}\n",
    "      \"\"\")\n",
    "\n",
    "print_sudoku_solution(csp_search)\n"
   ]
  },
  {
   "cell_type": "code",
   "execution_count": 3,
   "metadata": {},
   "outputs": [
    {
     "name": "stdout",
     "output_type": "stream",
     "text": [
      "\n",
      "Backtrack calls: 2\n",
      "Failed backtracking call: 0\n",
      "      \n",
      "8 7 5 | 9 3 6 | 1 4 2 \n",
      "1 6 9 | 7 2 4 | 3 8 5 \n",
      "2 4 3 | 8 5 1 | 6 7 9 \n",
      "------+-------+------\n",
      "4 5 2 | 6 9 7 | 8 3 1 \n",
      "9 8 6 | 4 1 3 | 2 5 7 \n",
      "7 3 1 | 5 8 2 | 9 6 4 \n",
      "------+-------+------\n",
      "5 1 7 | 3 6 9 | 4 2 8 \n",
      "6 2 8 | 1 4 5 | 7 9 3 \n",
      "3 9 4 | 2 7 8 | 5 1 6 \n"
     ]
    }
   ],
   "source": [
    "csp = create_sudoku_csp(filename=\"medium.txt\")\n",
    "\n",
    "csp_search = csp.backtracking_search()\n",
    "\n",
    "print(f\"\"\"\n",
    "Backtrack calls: {csp.backtrack_calls}\n",
    "Failed backtracking call: {csp.backtrack_failures}\n",
    "      \"\"\")\n",
    "\n",
    "print_sudoku_solution(csp_search)"
   ]
  },
  {
   "cell_type": "code",
   "execution_count": 4,
   "metadata": {},
   "outputs": [
    {
     "name": "stdout",
     "output_type": "stream",
     "text": [
      "\n",
      "Backtrack calls: 7\n",
      "Failed backtracking call: 2\n",
      "      \n",
      "1 5 2 | 3 4 6 | 8 9 7 \n",
      "4 3 7 | 1 8 9 | 6 5 2 \n",
      "6 8 9 | 5 7 2 | 3 1 4 \n",
      "------+-------+------\n",
      "8 2 1 | 6 3 7 | 9 4 5 \n",
      "5 4 3 | 8 9 1 | 7 2 6 \n",
      "9 7 6 | 4 2 5 | 1 8 3 \n",
      "------+-------+------\n",
      "7 9 8 | 2 5 3 | 4 6 1 \n",
      "3 6 5 | 9 1 4 | 2 7 8 \n",
      "2 1 4 | 7 6 8 | 5 3 9 \n"
     ]
    }
   ],
   "source": [
    "csp = create_sudoku_csp(filename=\"hard.txt\")\n",
    "\n",
    "csp_search = csp.backtracking_search()\n",
    "\n",
    "print(f\"\"\"\n",
    "Backtrack calls: {csp.backtrack_calls}\n",
    "Failed backtracking call: {csp.backtrack_failures}\n",
    "      \"\"\")\n",
    "\n",
    "print_sudoku_solution(csp_search)"
   ]
  },
  {
   "cell_type": "markdown",
   "metadata": {},
   "source": [
    "\n",
    "### Easy Board:\n",
    "\n",
    "- The algorithm successfully solved the easy board with no backtracking failures.\n",
    "- This outcome aligns with expectations as easy Sudoku puzzles are typically designed to be solvable through simple logical deductions, and the search space is relatively small.\n",
    "\n",
    "### Medium Board:\n",
    "\n",
    "- The algorithm successfully solved the easy board with no backtracking failures.\n",
    "- This suggests that while the medium board is not as straightforward as the easy one, it is still solvable through backtracking, albeit with a slightly larger search space.\n",
    "\n",
    "### Hard Board:\n",
    "\n",
    "- The algorithm encountered two backtracking failures on the hard board.\n",
    "- This is consistent with the expectation that hard Sudoku puzzles are designed to challenge solvers, requiring more extensive search and deeper backtracking of 7.\n",
    "\n",
    "### Reflection:\n",
    "\n",
    "- The results highlight the algorithm's sensitivity to the complexity of Sudoku boards.\n",
    "- The theory of Sudoku solving aligns with the outcomes: easy puzzles can be solved using basic logic, while harder ones may necessitate deeper search and more advanced strategies.\n",
    "- The relationship between board difficulty and backtracking failures underscores the importance of selecting appropriate algorithms and strategies based on puzzle complexity.\n",
    "Further optimization and advanced solving techniques may be necessary for tackling expert-level puzzles effectively."
   ]
  },
  {
   "cell_type": "code",
   "execution_count": null,
   "metadata": {},
   "outputs": [],
   "source": []
  }
 ],
 "metadata": {
  "kernelspec": {
   "display_name": "Python 3",
   "language": "python",
   "name": "python3"
  },
  "language_info": {
   "codemirror_mode": {
    "name": "ipython",
    "version": 3
   },
   "file_extension": ".py",
   "mimetype": "text/x-python",
   "name": "python",
   "nbconvert_exporter": "python",
   "pygments_lexer": "ipython3",
   "version": "3.11.4"
  },
  "orig_nbformat": 4
 },
 "nbformat": 4,
 "nbformat_minor": 2
}
